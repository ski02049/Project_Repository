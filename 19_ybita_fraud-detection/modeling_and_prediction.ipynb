{
 "cells": [
  {
   "cell_type": "code",
   "execution_count": 0,
   "metadata": {
    "colab": {},
    "colab_type": "code",
    "id": "_TMgM9e1q03O"
   },
   "outputs": [],
   "source": [
    "import os, time, gc, datetime\n",
    "import numpy as np\n",
    "import pandas as pd\n",
    "import matplotlib.pyplot as plt\n",
    "import seaborn as sns\n",
    "%matplotlib inline\n",
    "\n",
    "from sklearn.preprocessing import LabelEncoder\n",
    "from sklearn.model_selection import StratifiedKFold\n",
    "\n",
    "import lightgbm as lgb\n",
    "\n",
    "pd.set_option('max_rows', 9999)\n",
    "pd.set_option('max_columns', 9999)\n",
    "\n",
    "start = time.time()"
   ]
  },
  {
   "cell_type": "code",
   "execution_count": 0,
   "metadata": {
    "colab": {
     "base_uri": "https://localhost:8080/",
     "height": 35
    },
    "colab_type": "code",
    "executionInfo": {
     "elapsed": 752,
     "status": "ok",
     "timestamp": 1566445019497,
     "user": {
      "displayName": "Jenna P",
      "photoUrl": "",
      "userId": "04271815384066255727"
     },
     "user_tz": -540
    },
    "id": "XsHZRDT_q2am",
    "outputId": "fddc050c-2bfe-444d-c2b5-b445ad15b85f"
   },
   "outputs": [
    {
     "name": "stdout",
     "output_type": "stream",
     "text": [
      "Drive already mounted at /content/gdrive; to attempt to forcibly remount, call drive.mount(\"/content/gdrive\", force_remount=True).\n"
     ]
    }
   ],
   "source": [
    "from google.colab import drive\n",
    "drive.mount('/content/gdrive')"
   ]
  },
  {
   "cell_type": "code",
   "execution_count": 0,
   "metadata": {
    "colab": {
     "base_uri": "https://localhost:8080/",
     "height": 35
    },
    "colab_type": "code",
    "executionInfo": {
     "elapsed": 734,
     "status": "ok",
     "timestamp": 1566445021813,
     "user": {
      "displayName": "Jenna P",
      "photoUrl": "",
      "userId": "04271815384066255727"
     },
     "user_tz": -540
    },
    "id": "QndhXSFEq4CU",
    "outputId": "a2018fd3-c79c-4c6b-de36-ef4e102d461e"
   },
   "outputs": [
    {
     "name": "stdout",
     "output_type": "stream",
     "text": [
      "/content/gdrive/My Drive/ML 4\n"
     ]
    }
   ],
   "source": [
    "cd /content/gdrive/My Drive/ML 4"
   ]
  },
  {
   "cell_type": "code",
   "execution_count": 0,
   "metadata": {
    "colab": {},
    "colab_type": "code",
    "id": "a-B5ZH82q6iP"
   },
   "outputs": [],
   "source": [
    "train = pd.read_csv(\"transaction_id_combined.csv\")"
   ]
  },
  {
   "cell_type": "code",
   "execution_count": 0,
   "metadata": {
    "colab": {
     "base_uri": "https://localhost:8080/",
     "height": 35
    },
    "colab_type": "code",
    "executionInfo": {
     "elapsed": 4728,
     "status": "ok",
     "timestamp": 1566445027364,
     "user": {
      "displayName": "Jenna P",
      "photoUrl": "",
      "userId": "04271815384066255727"
     },
     "user_tz": -540
    },
    "id": "I6L6BEN5HTRn",
    "outputId": "5dd16d48-14fb-4c27-826b-65ba0dff3e24"
   },
   "outputs": [
    {
     "name": "stdout",
     "output_type": "stream",
     "text": [
      "/content/gdrive/My Drive/ML 4/Test\n"
     ]
    }
   ],
   "source": [
    "cd /content/gdrive/My Drive/ML 4/Test"
   ]
  },
  {
   "cell_type": "code",
   "execution_count": 0,
   "metadata": {
    "colab": {
     "base_uri": "https://localhost:8080/",
     "height": 89
    },
    "colab_type": "code",
    "executionInfo": {
     "elapsed": 3166,
     "status": "ok",
     "timestamp": 1566445029303,
     "user": {
      "displayName": "Jenna P",
      "photoUrl": "",
      "userId": "04271815384066255727"
     },
     "user_tz": -540
    },
    "id": "IYoLmlC5PqIq",
    "outputId": "5c2ddd94-fbc5-49a7-e2fe-60f1bb841dc9"
   },
   "outputs": [
    {
     "name": "stdout",
     "output_type": "stream",
     "text": [
      " cdmb_hyunji_Version_underlgbm_0_89.ipynb  'test_combined(Yaehee_version).csv'\n",
      " sample_submission.csv                      Test_Please.csv\n",
      " submission.csv                             test_region.csv\n",
      " test_combined.csv                         'train_combined(Yaehee_version).csv'\n"
     ]
    }
   ],
   "source": [
    "ls"
   ]
  },
  {
   "cell_type": "code",
   "execution_count": 0,
   "metadata": {
    "colab": {},
    "colab_type": "code",
    "id": "KUpkD30oHpUZ"
   },
   "outputs": [],
   "source": [
    "test = pd.read_csv(\"Test_Please.csv\")"
   ]
  },
  {
   "cell_type": "code",
   "execution_count": 0,
   "metadata": {
    "colab": {},
    "colab_type": "code",
    "id": "Xw_jsqPSq7ZT"
   },
   "outputs": [],
   "source": [
    "not_fraud = train[train.isFraud==0]\n",
    "fraud = train[train.isFraud==1]"
   ]
  },
  {
   "cell_type": "code",
   "execution_count": 0,
   "metadata": {
    "colab": {},
    "colab_type": "code",
    "id": "lrBkpnWNq7j2"
   },
   "outputs": [],
   "source": [
    "from sklearn.utils import resample\n",
    "\n",
    "not_fraud_downsampled = resample(not_fraud,\n",
    "\n",
    "                               n_samples = len(fraud), # match minority n\n",
    "                                random_state = 27) # reproducible results"
   ]
  },
  {
   "cell_type": "code",
   "execution_count": 0,
   "metadata": {
    "colab": {},
    "colab_type": "code",
    "id": "2LHeFApurfHO"
   },
   "outputs": [],
   "source": [
    "downsampled = pd.concat([not_fraud_downsampled, fraud])\n"
   ]
  },
  {
   "cell_type": "code",
   "execution_count": 0,
   "metadata": {
    "colab": {
     "base_uri": "https://localhost:8080/",
     "height": 283
    },
    "colab_type": "code",
    "executionInfo": {
     "elapsed": 1093,
     "status": "ok",
     "timestamp": 1566445039259,
     "user": {
      "displayName": "Jenna P",
      "photoUrl": "",
      "userId": "04271815384066255727"
     },
     "user_tz": -540
    },
    "id": "HwMuPU4Tr55_",
    "outputId": "8624c1bb-5af6-487b-fdbe-dc73fb7e602b"
   },
   "outputs": [
    {
     "data": {
      "image/png": "[encoded data removed]",
      "text/plain": [
       "<Figure size 432x288 with 1 Axes>"
      ]
     },
     "metadata": {
      "tags": []
     },
     "output_type": "display_data"
    }
   ],
   "source": [
    "sns.countplot(x='isFraud', data=downsampled)\n",
    "plt.show()\n"
   ]
  },
  {
   "cell_type": "code",
   "execution_count": 0,
   "metadata": {
    "colab": {},
    "colab_type": "code",
    "id": "4e6NV3Uh55y8"
   },
   "outputs": [],
   "source": [
    "from sklearn.model_selection import train_test_split\n",
    "from sklearn.metrics import precision_score, recall_score, f1_score, accuracy_score, roc_auc_score\n",
    "\n",
    "\n",
    "import xgboost as xgb\n",
    "import matplotlib.pyplot as plt"
   ]
  },
  {
   "cell_type": "code",
   "execution_count": 0,
   "metadata": {
    "colab": {},
    "colab_type": "code",
    "id": "0J_P9KoVr-Am"
   },
   "outputs": [],
   "source": [
    "# make Dataset\n",
    "features = [c for c in downsampled.columns if c not in ['TransactionID', 'isFraud']]\n",
    "target = 'isFraud'\n",
    "\n",
    "X = downsampled[features].values\n",
    "Y = downsampled[target].values\n",
    "\n",
    "X_test = test[features].values\n",
    "\n",
    "oof = np.zeros(len(downsampled))\n",
    "preds = np.zeros(len(test))\n",
    "feature_importance = np.zeros(len(features))"
   ]
  },
  {
   "cell_type": "code",
   "execution_count": 0,
   "metadata": {
    "colab": {},
    "colab_type": "code",
    "id": "a4h6RcRjshoZ"
   },
   "outputs": [],
   "source": [
    "# Config\n",
    "cv = StratifiedKFold(n_splits=5, shuffle=True, random_state=0)\n",
    "params = {\n",
    "    'task': 'train',\n",
    "    'objective': 'binary',\n",
    "    'metrics': 'auc',\n",
    "    'max_depth': 9,\n",
    "    'learning_rate': 0.15,\n",
    "    'random_state': 0,\n",
    "    'bagging_fraction': 0.9,\n",
    "    'feature_fraction': 0.9,\n",
    "}\n",
    "config = {\n",
    "    'num_boost_round':  500,\n",
    "    'early_stopping_rounds': 100,\n",
    "    'verbose_eval': 2000\n",
    "}"
   ]
  },
  {
   "cell_type": "code",
   "execution_count": 0,
   "metadata": {
    "colab": {
     "base_uri": "https://localhost:8080/",
     "height": 557
    },
    "colab_type": "code",
    "executionInfo": {
     "elapsed": 72964,
     "status": "ok",
     "timestamp": 1566445116388,
     "user": {
      "displayName": "Jenna P",
      "photoUrl": "",
      "userId": "04271815384066255727"
     },
     "user_tz": -540
    },
    "id": "nqB0rW5asnaW",
    "outputId": "8adce1f3-6ece-4a49-91fb-099737ec23e7"
   },
   "outputs": [
    {
     "name": "stdout",
     "output_type": "stream",
     "text": [
      "1 Folds\n",
      "Training until validation scores don't improve for 100 rounds.\n",
      "Did not meet early stopping. Best iteration is:\n",
      "[500]\ttrain's auc: 0.991461\teval's auc: 0.93471\n",
      "1 Folds Running Time: 0:00:14.252664\n",
      "##################################################\n",
      "2 Folds\n",
      "Training until validation scores don't improve for 100 rounds.\n",
      "Did not meet early stopping. Best iteration is:\n",
      "[500]\ttrain's auc: 0.991699\teval's auc: 0.928225\n",
      "2 Folds Running Time: 0:00:14.426440\n",
      "##################################################\n",
      "3 Folds\n",
      "Training until validation scores don't improve for 100 rounds.\n",
      "Did not meet early stopping. Best iteration is:\n",
      "[500]\ttrain's auc: 0.991013\teval's auc: 0.936493\n",
      "3 Folds Running Time: 0:00:14.408887\n",
      "##################################################\n",
      "4 Folds\n",
      "Training until validation scores don't improve for 100 rounds.\n",
      "Did not meet early stopping. Best iteration is:\n",
      "[500]\ttrain's auc: 0.99173\teval's auc: 0.932727\n",
      "4 Folds Running Time: 0:00:14.526486\n",
      "##################################################\n",
      "5 Folds\n",
      "Training until validation scores don't improve for 100 rounds.\n",
      "Did not meet early stopping. Best iteration is:\n",
      "[500]\ttrain's auc: 0.991891\teval's auc: 0.929248\n",
      "5 Folds Running Time: 0:00:14.023675\n",
      "##################################################\n"
     ]
    }
   ],
   "source": [
    "# %%time\n",
    "# Model training\n",
    "for i, (trn_index, val_index) in enumerate(cv.split(X, Y)):\n",
    "    print('{} Folds'.format(i + 1))\n",
    "    \n",
    "    _start = time.time()\n",
    "    X_train, Y_train = X[trn_index], Y[trn_index]\n",
    "    X_valid, Y_valid = X[val_index], Y[val_index]\n",
    "    \n",
    "    trn_data = lgb.Dataset(X_train, label=Y_train)\n",
    "    val_data = lgb.Dataset(X_valid, label=Y_valid, reference=trn_data)\n",
    "    \n",
    "    model = lgb.train(params, trn_data, valid_sets=[val_data, trn_data], valid_names=['eval', 'train'], **config)\n",
    "    \n",
    "    oof[val_index] = model.predict(X_valid)\n",
    "    preds += model.predict(X_test, iteration=model.best_iteration) / cv.get_n_splits()\n",
    "    feature_importance += model.feature_importance(iteration=model.best_iteration)\n",
    "    \n",
    "    elapsedtime = time.time() - _start\n",
    "    s = datetime.timedelta(seconds=elapsedtime)\n",
    "\n",
    "    print('{} Folds Running Time: {}'.format(i + 1, str(s)))\n",
    "    print('#' * 50)\n",
    "    \n",
    "    del model\n",
    "    gc.collect()"
   ]
  },
  {
   "cell_type": "code",
   "execution_count": 0,
   "metadata": {
    "colab": {},
    "colab_type": "code",
    "id": "WbTrD1cctbpF"
   },
   "outputs": [],
   "source": [
    "from sklearn.metrics import roc_auc_score\n",
    "from sklearn.metrics import accuracy_score\n",
    "from sklearn.metrics import recall_score\n",
    "from sklearn.metrics import f1_score\n",
    "from sklearn.metrics import precision_score"
   ]
  },
  {
   "cell_type": "code",
   "execution_count": 0,
   "metadata": {
    "colab": {
     "base_uri": "https://localhost:8080/",
     "height": 107
    },
    "colab_type": "code",
    "executionInfo": {
     "elapsed": 701,
     "status": "ok",
     "timestamp": 1566447218104,
     "user": {
      "displayName": "Jenna P",
      "photoUrl": "",
      "userId": "04271815384066255727"
     },
     "user_tz": -540
    },
    "id": "tzizLDHVswDR",
    "outputId": "f4dae70d-f9e3-426f-83eb-4cabd54863ed"
   },
   "outputs": [
    {
     "name": "stdout",
     "output_type": "stream",
     "text": [
      "Accuracy:0.8565067995934763\n",
      "Precision:0.8725534820209376\n",
      "Recall:0.8349707206117214\n",
      "F1:0.8533485013354437\n",
      "ROC_AUC:0.8565067995934763\n"
     ]
    }
   ],
   "source": [
    "# pred = clf.predict(X_test)\n",
    "# print('F1:{}'.format(f1_score(y_test, pred)))\n",
    "\n",
    "print('F1:{}'.format(f1_score(downsampled['isFraud'], oof > 0.5)),\n",
    "     'ROC_AUC:{}'.format(roc_auc_score(downsampled['isFraud'], oof > 0.5)), sep = '\\n')"
   ]
  },
  {
   "cell_type": "code",
   "execution_count": 0,
   "metadata": {
    "colab": {
     "base_uri": "https://localhost:8080/",
     "height": 1000
    },
    "colab_type": "code",
    "executionInfo": {
     "elapsed": 1917,
     "status": "ok",
     "timestamp": 1566445591227,
     "user": {
      "displayName": "Jenna P",
      "photoUrl": "",
      "userId": "04271815384066255727"
     },
     "user_tz": -540
    },
    "id": "sJeJXymuuybq",
    "outputId": "e8d5ab2a-93ee-4db6-f3dc-602e079c001f"
   },
   "outputs": [
    {
     "data": {
      "image/png": "[encoded data removed]",
      "text/plain": [
       "<Figure size 864x1440 with 1 Axes>"
      ]
     },
     "metadata": {
      "tags": []
     },
     "output_type": "display_data"
    }
   ],
   "source": [
    "importance_df = pd.DataFrame({\n",
    "    'feature': features,\n",
    "    'importance': feature_importance\n",
    "})\n",
    "\n",
    "fig = plt.figure(figsize=(12, 20))\n",
    "sns.barplot(x='importance', y='feature', data=importance_df.sort_values(by='importance', ascending=False)[:50])\n",
    "plt.show()"
   ]
  },
  {
   "cell_type": "code",
   "execution_count": 0,
   "metadata": {
    "colab": {},
    "colab_type": "code",
    "id": "krH5Z00IJNzk"
   },
   "outputs": [],
   "source": [
    "sub = pd.read_csv('sample_submission.csv')\n",
    "sub['isFraud'] = preds\n",
    "sub.to_csv('submission.csv', index=False)"
   ]
  }
 ],
 "metadata": {
  "colab": {
   "collapsed_sections": [],
   "name": "cdmb_hyunji_Version_underlgbm_0_89_edited.ipynb",
   "provenance": [],
   "version": "0.3.2"
  },
  "kernelspec": {
   "display_name": "Python 3",
   "language": "python",
   "name": "python3"
  },
  "language_info": {
   "codemirror_mode": {
    "name": "ipython",
    "version": 3
   },
   "file_extension": ".py",
   "mimetype": "text/x-python",
   "name": "python",
   "nbconvert_exporter": "python",
   "pygments_lexer": "ipython3",
   "version": "3.7.3"
  }
 },
 "nbformat": 4,
 "nbformat_minor": 1
}
